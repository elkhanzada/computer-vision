{
  "nbformat": 4,
  "nbformat_minor": 0,
  "metadata": {
    "colab": {
      "provenance": []
    },
    "kernelspec": {
      "name": "python3",
      "display_name": "Python 3"
    },
    "language_info": {
      "name": "python"
    }
  },
  "cells": [
    {
      "cell_type": "code",
      "execution_count": 20,
      "metadata": {
        "colab": {
          "base_uri": "https://localhost:8080/",
          "height": 324
        },
        "id": "Cp79yc6FXq7K",
        "outputId": "96a957fe-4052-4857-e6f7-b3bea53c4f83"
      },
      "outputs": [
        {
          "output_type": "stream",
          "name": "stdout",
          "text": [
            "obtained w:  [1. 2. 3.] true w: [1 2 3]\n",
            "obtained b:  [5.] true b: 5\n"
          ]
        },
        {
          "output_type": "execute_result",
          "data": {
            "text/plain": [
              "[<matplotlib.lines.Line2D at 0x7f5c5343be90>]"
            ]
          },
          "metadata": {},
          "execution_count": 20
        },
        {
          "output_type": "display_data",
          "data": {
            "text/plain": [
              "<Figure size 432x288 with 1 Axes>"
            ],
            "image/png": "[encoded data removed]"
          },
          "metadata": {
            "needs_background": "light"
          }
        }
      ],
      "source": [
        "import numpy as np\n",
        "\n",
        "w_true = np.array([1, 2, 3])\n",
        "b_true = 5\n",
        "\n",
        "w = np.random.rand(3, 1).squeeze(1)\n",
        "b = np.random.rand(1)\n",
        "\n",
        "X = np.random.rand(100, 3)\n",
        "y = np.dot(X, w_true) + b_true\n",
        "\n",
        "gamma = 0.1\n",
        "losses = []\n",
        "\n",
        "for i in range(5000):\n",
        "  errors = y - (np.dot(X, w) + b)\n",
        "  dEdw = np.dot(X.T, errors) / 100\n",
        "  dEdb = errors.sum() / 100\n",
        "\n",
        "  loss = (errors**2).sum()\n",
        "\n",
        "  w += gamma * dEdw\n",
        "  b += gamma * dEdb\n",
        "\n",
        "  losses.append(loss)\n",
        "\n",
        "print('obtained w: ', w, 'true w:', w_true)\n",
        "print('obtained b: ', b, 'true b:', b_true)\n",
        "\n",
        "from matplotlib import pyplot as plt\n",
        "plt.plot(losses)"
      ]
    },
    {
      "cell_type": "code",
      "source": [
        "import torch\n",
        "\n",
        "w_true = torch.Tensor([1, 2, 3])\n",
        "b_true = 5\n",
        "\n",
        "w = torch.randn(3, requires_grad = True)\n",
        "b = torch.randn(1, requires_grad = True)\n",
        "X = torch.randn(100, 3)\n",
        "y = torch.mv(X, w_true) + b_true\n",
        "gamma = 0.1\n",
        "losses = []\n",
        "\n",
        "for i in range(100):\n",
        "  w.grad = None\n",
        "  b.grad = None\n",
        "\n",
        "  y_pred = torch.mv(X,w) + b\n",
        "\n",
        "  loss = torch.mean((y- y_pred)**2)\n",
        "  loss.backward()\n",
        "\n",
        "  w.data = w.data - gamma * w.grad.data\n",
        "  b.data = b.data - gamma * b.grad.data\n",
        "\n",
        "  losses.append(loss.item())\n",
        "\n",
        "print('obtained w: ', w, 'true w:', w_true)\n",
        "print('obtained b: ', b, 'true b:', b_true)\n",
        "\n",
        "from matplotlib import pyplot as plt\n",
        "plt.plot(losses)"
      ],
      "metadata": {
        "colab": {
          "base_uri": "https://localhost:8080/",
          "height": 320
        },
        "id": "OlJZrv-V2cHO",
        "outputId": "f49f63bb-045b-4465-965e-5a51b189682d"
      },
      "execution_count": 1,
      "outputs": [
        {
          "output_type": "stream",
          "name": "stdout",
          "text": [
            "obtained w:  tensor([1.0000, 2.0000, 3.0000], requires_grad=True) true w: tensor([1., 2., 3.])\n",
            "obtained b:  tensor([5.0000], requires_grad=True) true b: 5\n"
          ]
        },
        {
          "output_type": "execute_result",
          "data": {
            "text/plain": [
              "[<matplotlib.lines.Line2D at 0x7f5c54bd18d0>]"
            ]
          },
          "metadata": {},
          "execution_count": 1
        },
        {
          "output_type": "display_data",
          "data": {
            "text/plain": [
              "<Figure size 432x288 with 1 Axes>"
            ],
            "image/png": "[encoded data removed]"
          },
          "metadata": {
            "needs_background": "light"
          }
        }
      ]
    }
  ]
}